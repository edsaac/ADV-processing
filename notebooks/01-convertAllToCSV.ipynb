{
 "cells": [
  {
   "cell_type": "code",
   "execution_count": 15,
   "metadata": {},
   "outputs": [],
   "source": [
    "import numpy as np\n",
    "import pandas as pd\n",
    "import matplotlib.pyplot as plt\n",
    "import netCDF4\n",
    "import os \n",
    "\n",
    "from vectrinoToPandas import *"
   ]
  },
  {
   "cell_type": "code",
   "execution_count": 16,
   "metadata": {},
   "outputs": [],
   "source": [
    "## Insert here the path to the folder containing the .nc files\n",
    "fPath = r\"./Lab1-2022/morning-data/trough\"\n",
    "files = os.listdir(fPath)\n"
   ]
  },
  {
   "cell_type": "code",
   "execution_count": 17,
   "metadata": {},
   "outputs": [],
   "source": [
    "for file in files:\n",
    "    prof, bot = readFile(os.path.join(fPath,file))\n",
    "    prof.to_csv(os.path.join(fPath,file.removesuffix(\".nc\")+\".velocity.csv\"))\n",
    "    bot.to_csv(os.path.join(fPath,file.removesuffix(\".nc\")+\".bottom.csv\"))"
   ]
  }
 ],
 "metadata": {
  "kernelspec": {
   "display_name": "Python 3.9.5 ('venv')",
   "language": "python",
   "name": "python3"
  },
  "language_info": {
   "codemirror_mode": {
    "name": "ipython",
    "version": 3
   },
   "file_extension": ".py",
   "mimetype": "text/x-python",
   "name": "python",
   "nbconvert_exporter": "python",
   "pygments_lexer": "ipython3",
   "version": "3.9.5"
  },
  "orig_nbformat": 4,
  "vscode": {
   "interpreter": {
    "hash": "89e1cd44f001cee52913e72ef4428da95183f9883d2353723c5f24d4bebbab96"
   }
  }
 },
 "nbformat": 4,
 "nbformat_minor": 2
}
